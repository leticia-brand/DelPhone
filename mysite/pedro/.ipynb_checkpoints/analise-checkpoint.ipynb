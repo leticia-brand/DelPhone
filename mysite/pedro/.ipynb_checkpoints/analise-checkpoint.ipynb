{
 "cells": [
  {
   "cell_type": "code",
   "execution_count": null,
   "metadata": {},
   "outputs": [],
   "source": [
    "import matplotlib.pyplot as plt\n",
    "import seaborn as sbn\n",
    "import pandas as pd\n",
    "import numpy as np\n",
    "import sqlite3\n",
    "from jupyterthemes import jtplot"
   ]
  },
  {
   "cell_type": "code",
   "execution_count": null,
   "metadata": {},
   "outputs": [],
   "source": [
    "!jt -t monokai -f fira -fs 12 -nf ptsans -nfs 12 -N -kl -cursw 2 -cursc r -cellw 95% -ofs 12 -dfs 12 -T\n",
    "jtplot.style(theme='monokai')"
   ]
  },
  {
   "cell_type": "code",
   "execution_count": null,
   "metadata": {},
   "outputs": [],
   "source": [
    "conn = sqlite3.connect('../db.sqlite3')\n",
    "cur = conn.cursor()\n",
    "\n",
    "query = '''\n",
    "SELECT * \n",
    "FROM delphone_empresa\n",
    "'''\n",
    "\n",
    "empresa = pd.read_sql(query, con = conn)\n",
    "\n",
    "empresa = empresa.drop(columns = 'id') \n",
    "\n",
    "empresa.head()"
   ]
  },
  {
   "cell_type": "code",
   "execution_count": null,
   "metadata": {},
   "outputs": [],
   "source": [
    "# Quais setores têm a maior e a menor média de funcionários por empresa?\n",
    "\n",
    "# R = Como observado na tabela abaixo, o setor Cozinha tem a maior média de funcionários por empresa e o setor Papelaria tem a menor média de funcionários por empresa.\n",
    "\n",
    "setor_media = empresa.groupby(['setor']).mean().sort_values(by='n_funcionario')\n",
    "Setores = [\"Papelaria\",\"Farmácia\",\"Alimentação\",\"Esportes\",\"Vestuário\",\"Material de construção\",\"Eletrodomésticos\",\"Música\",\"Mobília\",\"Cozinha\"]\n",
    "Média = [479.042,484.222,484.920,489.159,489.692,513.663,518.474,525.857,528.704,535.080]\n",
    "\n",
    "plt.figure(figsize=(39, 17))\n",
    "plt.bar(Setores,Média,color='red')\n",
    "plt.ylabel(\"Média de funcionários por empresa\",fontsize=35)\n",
    "plt.xlabel(\"Setores\",fontsize=35)\n",
    "plt.title(\"Média de funcionários por empresa em cada setor\",fontsize=40)\n",
    "plt.yticks([0,50,100,150,200,250,300,350,400,450,500,550])\n",
    "plt.grid(b=None)\n",
    "plt.xticks(fontsize=20)\n",
    "plt.yticks(fontsize=25)\n",
    "\n",
    "setor_media"
   ]
  },
  {
   "cell_type": "code",
   "execution_count": null,
   "metadata": {},
   "outputs": [],
   "source": [
    "# Quais estados têm a maior e a menor média de funcionários por empresa?\n",
    "\n",
    "# R = Como observado na tabela abaixo, Espírito Santo tem a maior média de funcionários por empresa e Amapá tem a menor média de funcionários por empresa.\n",
    "\n",
    "estado_media = empresa.groupby(['estado']).mean().sort_values(by='n_funcionario')\n",
    "\n",
    "Siglas = [\"AP\",\"DF\",\"AC\",\"PE\",\"GO\",\"SE\",\"AM\",\"PR\",\"PB\",\"RN\",\"MA\",\"MT\",\"MG\",\"SC\",\"RS\",\"PA\",\"SP\",\"RO\",\"MS\",\"TO\",\"RJ\",\"RR\",\"AL\",\"PI\",\"BA\",\"CE\",\"ES\"]\n",
    "Média = [122.000,271.000,303.800,451.870,457.783,459.583,463.928,472.441,476.153,483.121,483.457,483.540,493.783,503.949,512.355,513.714,518.653,523.600,527.692,529.066,532.705,548.800,550.222,551.411,551.851,568.387,615.750]\n",
    "\n",
    "plt.figure(figsize=(13, 6))\n",
    "plt.bar(Siglas,Média,color='yellow')\n",
    "plt.ylabel(\"Média de funcionários por empresa\")\n",
    "plt.xlabel(\"Estados\")\n",
    "plt.title(\"Média de funcionários por empresa em cada estado\")\n",
    "plt.grid(b=None)\n",
    "\n",
    "estado_media"
   ]
  },
  {
   "cell_type": "code",
   "execution_count": null,
   "metadata": {},
   "outputs": [],
   "source": [
    "# Quais setores têm a maior e a menor quantidade de funcionários?\n",
    "\n",
    "# R = Como observado na tabela abaixo, o setor Mobília tem a maior quantidade de funcionários e o setor Alimentação tem a menor quantidade de funcionários.\n",
    "\n",
    "setor_soma = empresa.groupby(by='setor').sum().sort_values(by='n_funcionario')\n",
    "\n",
    "Setores = [\"Alimentação\",\"Papelaria\",\"Material de construção\",\"Eletrodomésticos\",\"Vestuário\",\"Música\",\"Farmácia\",\"Cozinha\",\"Esportes\",\"Mobília\"]\n",
    "Funcionários = [42673.0,45509.0,47257.0,50292.0,50928.0,51534.0,52296.0,53508.0,55275.0,55514.0]\n",
    "\n",
    "plt.figure(figsize=(25, 6))\n",
    "plt.bar(Setores,Funcionários,color='blue')\n",
    "plt.ylabel(\"Quantidade de funcionários\",fontsize=25)\n",
    "plt.xlabel(\"Setores\",fontsize=25)\n",
    "plt.title(\"Quantidade de funcionários por setor\",fontsize=30)\n",
    "plt.grid(b=None)\n",
    "\n",
    "setor_soma"
   ]
  },
  {
   "cell_type": "code",
   "execution_count": null,
   "metadata": {},
   "outputs": [],
   "source": [
    "# Quais estados têm a maior e a menor quantidade de funcionários?\n",
    "\n",
    "# R = Como observado na tabela e no gráfico abaixo, Minas Gerais tem a maior quantidade de funcionários e Amapá tem a menor quantidade de funcionários.\n",
    "\n",
    "estado_soma = empresa.groupby(by='estado').sum().sort_values(by='n_funcionario')\n",
    "\n",
    "Estados = [\"AP\",\"DF\",\"AC\",\"RR\",\"RO\",\"SE\",\"AM\",\"MS\",\"TO\",\"RJ\",\"ES\",\"AL\",\"PA\",\"PE\",\"MA\",\"GO\",\"CE\",\"MT\",\"PB\",\"PI\",\"RN\",\"SC\",\"PR\",\"BA\",\"RS\",\"SP\",\"MG\"]\n",
    "Funcionários = [122.0,271.0,1519.0,2744.0,5236.0,5515.0,6495.0,6860.0,7936.0,9056.0,9852.0,9904.0,10788.0,14008.0,16921.0,16938.0,17620.0,17891.0,18570.0,18748.0,19808.0,29733.0,36378.0,40837.0,46112.0,64313.0,70611.0]\n",
    "\n",
    "plt.figure(figsize=(13, 6))\n",
    "plt.bar(Estados,Funcionários,color='green')\n",
    "plt.ylabel(\"Quantidade de funcionários\")\n",
    "plt.xlabel(\"Estados\")\n",
    "plt.title(\"Quantidade de funcionários por estado\")\n",
    "plt.grid(b=None)\n",
    "\n",
    "estado_soma"
   ]
  },
  {
   "cell_type": "code",
   "execution_count": null,
   "metadata": {},
   "outputs": [],
   "source": []
  }
 ],
 "metadata": {
  "interpreter": {
   "hash": "e9c1b6de7dd11e836f9d6578176a03145d69b3706dc1a430f69caaa0fa1933fa"
  },
  "kernelspec": {
   "display_name": "Python 3",
   "language": "python",
   "name": "python3"
  },
  "language_info": {
   "codemirror_mode": {
    "name": "ipython",
    "version": 3
   },
   "file_extension": ".py",
   "mimetype": "text/x-python",
   "name": "python",
   "nbconvert_exporter": "python",
   "pygments_lexer": "ipython3",
   "version": "3.8.5"
  }
 },
 "nbformat": 4,
 "nbformat_minor": 2
}
