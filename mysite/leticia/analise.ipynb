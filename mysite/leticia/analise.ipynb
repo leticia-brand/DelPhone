{
 "cells": [
  {
   "cell_type": "markdown",
   "metadata": {},
   "source": [
    "# Análise sobre cidades"
   ]
  },
  {
   "cell_type": "markdown",
   "metadata": {},
   "source": [
    "### Bibliotecas necessárias\n"
   ]
  },
  {
   "cell_type": "code",
   "execution_count": 1,
   "metadata": {},
   "outputs": [],
   "source": [
    "import matplotlib.pyplot as plt\n",
    "import pandas as pd\n",
    "import numpy as np\n",
    "import sqlite3\n",
    "from datetime import datetime"
   ]
  },
  {
   "cell_type": "markdown",
   "metadata": {},
   "source": [
    "### Passando a base de dados para Pandas"
   ]
  },
  {
   "cell_type": "code",
   "execution_count": 2,
   "metadata": {},
   "outputs": [
    {
     "data": {
      "text/html": [
       "<div>\n",
       "<style scoped>\n",
       "    .dataframe tbody tr th:only-of-type {\n",
       "        vertical-align: middle;\n",
       "    }\n",
       "\n",
       "    .dataframe tbody tr th {\n",
       "        vertical-align: top;\n",
       "    }\n",
       "\n",
       "    .dataframe thead th {\n",
       "        text-align: right;\n",
       "    }\n",
       "</style>\n",
       "<table border=\"1\" class=\"dataframe\">\n",
       "  <thead>\n",
       "    <tr style=\"text-align: right;\">\n",
       "      <th></th>\n",
       "      <th>nome</th>\n",
       "      <th>email</th>\n",
       "      <th>celular</th>\n",
       "      <th>endereco</th>\n",
       "      <th>estado</th>\n",
       "      <th>cidade</th>\n",
       "      <th>setor</th>\n",
       "      <th>n_funcionario</th>\n",
       "      <th>n_filiais</th>\n",
       "      <th>data_criacao</th>\n",
       "      <th>faturamento_anual</th>\n",
       "      <th>horario_abertura</th>\n",
       "      <th>horario_fechamento</th>\n",
       "    </tr>\n",
       "  </thead>\n",
       "  <tbody>\n",
       "    <tr>\n",
       "      <th>0</th>\n",
       "      <td>Vega-Davis</td>\n",
       "      <td>moniquepatterson@example.net</td>\n",
       "      <td>619-235-8267x594</td>\n",
       "      <td>39072 Dominguez Brooks\\nNew Sean, AL 24938</td>\n",
       "      <td>RS</td>\n",
       "      <td>Vila Maria</td>\n",
       "      <td>Papelaria</td>\n",
       "      <td>945.0</td>\n",
       "      <td>57.0</td>\n",
       "      <td>1983-08-15</td>\n",
       "      <td>261.0</td>\n",
       "      <td>14:22:00</td>\n",
       "      <td>07:55:39</td>\n",
       "    </tr>\n",
       "    <tr>\n",
       "      <th>1</th>\n",
       "      <td>Molina, Turner and Evans</td>\n",
       "      <td>rcarpenter@example.net</td>\n",
       "      <td>793-057-3456x927</td>\n",
       "      <td>386 James Neck\\nJasminefort, WV 94271</td>\n",
       "      <td>BA</td>\n",
       "      <td>Riachão Das Neves</td>\n",
       "      <td>Esportes</td>\n",
       "      <td>380.0</td>\n",
       "      <td>86.0</td>\n",
       "      <td>2021-02-01</td>\n",
       "      <td>535.0</td>\n",
       "      <td>04:08:05</td>\n",
       "      <td>07:35:00</td>\n",
       "    </tr>\n",
       "    <tr>\n",
       "      <th>2</th>\n",
       "      <td>Cameron-Mcdonald</td>\n",
       "      <td>charlesanderson@example.com</td>\n",
       "      <td>001-182-115-3409</td>\n",
       "      <td>8674 Jose Lock Apt. 550\\nLake Malikview, LA 39125</td>\n",
       "      <td>MG</td>\n",
       "      <td>Itanhomi</td>\n",
       "      <td>Vestuário</td>\n",
       "      <td>540.0</td>\n",
       "      <td>34.0</td>\n",
       "      <td>2005-07-11</td>\n",
       "      <td>573.0</td>\n",
       "      <td>10:35:44</td>\n",
       "      <td>19:29:34</td>\n",
       "    </tr>\n",
       "    <tr>\n",
       "      <th>3</th>\n",
       "      <td>Mcdonald-Hudson</td>\n",
       "      <td>msanders@example.com</td>\n",
       "      <td>+1-924-043-5432x16295</td>\n",
       "      <td>385 Brett Valleys\\nNorth Mary, NE 72357</td>\n",
       "      <td>CE</td>\n",
       "      <td>Ipueiras</td>\n",
       "      <td>Cozinha</td>\n",
       "      <td>283.0</td>\n",
       "      <td>26.0</td>\n",
       "      <td>1997-08-31</td>\n",
       "      <td>955.0</td>\n",
       "      <td>09:02:09</td>\n",
       "      <td>01:30:08</td>\n",
       "    </tr>\n",
       "    <tr>\n",
       "      <th>4</th>\n",
       "      <td>Myers-Diaz</td>\n",
       "      <td>carrolldeborah@example.com</td>\n",
       "      <td>(779)083-8986</td>\n",
       "      <td>65693 Lee Court Apt. 876\\nNew Victorialand, KY...</td>\n",
       "      <td>PB</td>\n",
       "      <td>Santa Cecília</td>\n",
       "      <td>Esportes</td>\n",
       "      <td>322.0</td>\n",
       "      <td>3.0</td>\n",
       "      <td>1978-05-19</td>\n",
       "      <td>459.0</td>\n",
       "      <td>04:40:42</td>\n",
       "      <td>15:31:53</td>\n",
       "    </tr>\n",
       "  </tbody>\n",
       "</table>\n",
       "</div>"
      ],
      "text/plain": [
       "                       nome                         email  \\\n",
       "0                Vega-Davis  moniquepatterson@example.net   \n",
       "1  Molina, Turner and Evans        rcarpenter@example.net   \n",
       "2          Cameron-Mcdonald   charlesanderson@example.com   \n",
       "3           Mcdonald-Hudson          msanders@example.com   \n",
       "4                Myers-Diaz    carrolldeborah@example.com   \n",
       "\n",
       "                 celular                                           endereco  \\\n",
       "0       619-235-8267x594         39072 Dominguez Brooks\\nNew Sean, AL 24938   \n",
       "1       793-057-3456x927              386 James Neck\\nJasminefort, WV 94271   \n",
       "2       001-182-115-3409  8674 Jose Lock Apt. 550\\nLake Malikview, LA 39125   \n",
       "3  +1-924-043-5432x16295            385 Brett Valleys\\nNorth Mary, NE 72357   \n",
       "4          (779)083-8986  65693 Lee Court Apt. 876\\nNew Victorialand, KY...   \n",
       "\n",
       "  estado             cidade      setor  n_funcionario  n_filiais data_criacao  \\\n",
       "0     RS         Vila Maria  Papelaria          945.0       57.0   1983-08-15   \n",
       "1     BA  Riachão Das Neves   Esportes          380.0       86.0   2021-02-01   \n",
       "2     MG           Itanhomi  Vestuário          540.0       34.0   2005-07-11   \n",
       "3     CE           Ipueiras    Cozinha          283.0       26.0   1997-08-31   \n",
       "4     PB      Santa Cecília   Esportes          322.0        3.0   1978-05-19   \n",
       "\n",
       "   faturamento_anual horario_abertura horario_fechamento  \n",
       "0              261.0         14:22:00           07:55:39  \n",
       "1              535.0         04:08:05           07:35:00  \n",
       "2              573.0         10:35:44           19:29:34  \n",
       "3              955.0         09:02:09           01:30:08  \n",
       "4              459.0         04:40:42           15:31:53  "
      ]
     },
     "execution_count": 2,
     "metadata": {},
     "output_type": "execute_result"
    }
   ],
   "source": [
    "conn = sqlite3.connect('../db.sqlite3')\n",
    "cur = conn.cursor()\n",
    "\n",
    "query = '''\n",
    "SELECT * \n",
    "FROM delphone_empresa\n",
    "'''\n",
    "\n",
    "empresa = pd.read_sql(query, con = conn)\n",
    "\n",
    "empresa = empresa.drop(columns = 'id') \n",
    "\n",
    "empresa.head()"
   ]
  },
  {
   "cell_type": "code",
   "execution_count": 3,
   "metadata": {},
   "outputs": [],
   "source": [
    "conn = sqlite3.connect('../db.sqlite3')\n",
    "cur = conn.cursor()\n",
    "\n",
    "query = '''\n",
    "SELECT * \n",
    "FROM delphone_busca\n",
    "'''\n",
    "\n",
    "busca = pd.read_sql(query, con = conn)\n",
    "\n",
    "busca = busca.drop(columns = 'id') "
   ]
  },
  {
   "cell_type": "markdown",
   "metadata": {},
   "source": [
    "## Preparação para perguntas de negócio"
   ]
  },
  {
   "cell_type": "markdown",
   "metadata": {},
   "source": [
    "Note que as datas estão são `object`, mas queremos que ela seja `datetime64[ns]`"
   ]
  },
  {
   "cell_type": "code",
   "execution_count": 4,
   "metadata": {},
   "outputs": [
    {
     "data": {
      "text/plain": [
       "nome                   object\n",
       "email                  object\n",
       "celular                object\n",
       "endereco               object\n",
       "estado                 object\n",
       "cidade                 object\n",
       "setor                  object\n",
       "n_funcionario         float64\n",
       "n_filiais             float64\n",
       "data_criacao           object\n",
       "faturamento_anual     float64\n",
       "horario_abertura       object\n",
       "horario_fechamento     object\n",
       "dtype: object"
      ]
     },
     "execution_count": 4,
     "metadata": {},
     "output_type": "execute_result"
    }
   ],
   "source": [
    "empresa.dtypes"
   ]
  },
  {
   "cell_type": "code",
   "execution_count": 5,
   "metadata": {},
   "outputs": [
    {
     "data": {
      "text/plain": [
       "nome                          object\n",
       "email                         object\n",
       "celular                       object\n",
       "endereco                      object\n",
       "estado                        object\n",
       "cidade                        object\n",
       "setor                         object\n",
       "n_funcionario                float64\n",
       "n_filiais                    float64\n",
       "data_criacao                  object\n",
       "faturamento_anual            float64\n",
       "horario_abertura      datetime64[ns]\n",
       "horario_fechamento    datetime64[ns]\n",
       "dtype: object"
      ]
     },
     "execution_count": 5,
     "metadata": {},
     "output_type": "execute_result"
    }
   ],
   "source": [
    "empresa['horario_abertura']= pd.to_datetime(empresa['horario_abertura'], format='%H:%M:%S')\n",
    "empresa['horario_fechamento']= pd.to_datetime(empresa['horario_fechamento'], format='%H:%M:%S')\n",
    "empresa.dtypes"
   ]
  },
  {
   "cell_type": "markdown",
   "metadata": {},
   "source": [
    "As perguntas de negócio se referem ao tempo que as empresas passam abertas, mas não existe essa coluna no DataFrame. Por isso, vamos criá-la, ignorando valores negaticos, pois estes não nos interessam. Note que todos devem possuir 0 dias abertos."
   ]
  },
  {
   "cell_type": "code",
   "execution_count": 6,
   "metadata": {},
   "outputs": [
    {
     "data": {
      "text/plain": [
       "0     0 days 06:26:21\n",
       "1     0 days 03:26:55\n",
       "2     0 days 08:53:50\n",
       "3     0 days 07:32:01\n",
       "4     0 days 10:51:11\n",
       "            ...      \n",
       "995   0 days 06:57:29\n",
       "996   0 days 14:52:00\n",
       "997   0 days 02:46:57\n",
       "998   0 days 17:25:11\n",
       "999   0 days 02:51:13\n",
       "Name: tempo_aberto, Length: 1000, dtype: timedelta64[ns]"
      ]
     },
     "execution_count": 6,
     "metadata": {},
     "output_type": "execute_result"
    }
   ],
   "source": [
    "empresa['tempo_aberto']= abs(empresa['horario_abertura'] - empresa['horario_fechamento'])\n",
    "empresa['tempo_aberto']"
   ]
  },
  {
   "cell_type": "markdown",
   "metadata": {},
   "source": [
    "Como as análises serão feitas por `setor` e por `estado`, vamos excluir do DataFrame as colunas que não nos interessam para a análise"
   ]
  },
  {
   "cell_type": "code",
   "execution_count": 7,
   "metadata": {},
   "outputs": [],
   "source": [
    "empresa_setor = empresa[['setor', 'tempo_aberto']]\n",
    "empresa_estado = empresa[['estado', 'tempo_aberto']]\n"
   ]
  },
  {
   "cell_type": "markdown",
   "metadata": {},
   "source": [
    "## Pergunta 1: Qual a média, máximo e mínimo, por setor, do tempo que as empresas passam abertas?"
   ]
  },
  {
   "cell_type": "markdown",
   "metadata": {},
   "source": [
    "### O máximo\n",
    "\n",
    "É importante para determinar aqueles setores que passam muito tempo abertas, e, com isso, podemos estudar/conjecturar padrões de horários de ápice de consumo. "
   ]
  },
  {
   "cell_type": "code",
   "execution_count": 8,
   "metadata": {},
   "outputs": [
    {
     "data": {
      "text/html": [
       "<div>\n",
       "<style scoped>\n",
       "    .dataframe tbody tr th:only-of-type {\n",
       "        vertical-align: middle;\n",
       "    }\n",
       "\n",
       "    .dataframe tbody tr th {\n",
       "        vertical-align: top;\n",
       "    }\n",
       "\n",
       "    .dataframe thead th {\n",
       "        text-align: right;\n",
       "    }\n",
       "</style>\n",
       "<table border=\"1\" class=\"dataframe\">\n",
       "  <thead>\n",
       "    <tr style=\"text-align: right;\">\n",
       "      <th></th>\n",
       "      <th>setor</th>\n",
       "      <th>tempo_aberto</th>\n",
       "    </tr>\n",
       "  </thead>\n",
       "  <tbody>\n",
       "    <tr>\n",
       "      <th>0</th>\n",
       "      <td>Alimentação</td>\n",
       "      <td>78614</td>\n",
       "    </tr>\n",
       "    <tr>\n",
       "      <th>1</th>\n",
       "      <td>Cozinha</td>\n",
       "      <td>78462</td>\n",
       "    </tr>\n",
       "    <tr>\n",
       "      <th>2</th>\n",
       "      <td>Eletrodomésticos</td>\n",
       "      <td>78784</td>\n",
       "    </tr>\n",
       "    <tr>\n",
       "      <th>3</th>\n",
       "      <td>Esportes</td>\n",
       "      <td>75363</td>\n",
       "    </tr>\n",
       "    <tr>\n",
       "      <th>4</th>\n",
       "      <td>Farmácia</td>\n",
       "      <td>78431</td>\n",
       "    </tr>\n",
       "    <tr>\n",
       "      <th>5</th>\n",
       "      <td>Material de construção</td>\n",
       "      <td>78582</td>\n",
       "    </tr>\n",
       "    <tr>\n",
       "      <th>6</th>\n",
       "      <td>Mobília</td>\n",
       "      <td>83130</td>\n",
       "    </tr>\n",
       "    <tr>\n",
       "      <th>7</th>\n",
       "      <td>Música</td>\n",
       "      <td>82912</td>\n",
       "    </tr>\n",
       "    <tr>\n",
       "      <th>8</th>\n",
       "      <td>Papelaria</td>\n",
       "      <td>83299</td>\n",
       "    </tr>\n",
       "    <tr>\n",
       "      <th>9</th>\n",
       "      <td>Vestuário</td>\n",
       "      <td>82359</td>\n",
       "    </tr>\n",
       "  </tbody>\n",
       "</table>\n",
       "</div>"
      ],
      "text/plain": [
       "                    setor  tempo_aberto\n",
       "0             Alimentação         78614\n",
       "1                 Cozinha         78462\n",
       "2        Eletrodomésticos         78784\n",
       "3                Esportes         75363\n",
       "4                Farmácia         78431\n",
       "5  Material de construção         78582\n",
       "6                 Mobília         83130\n",
       "7                  Música         82912\n",
       "8               Papelaria         83299\n",
       "9               Vestuário         82359"
      ]
     },
     "execution_count": 8,
     "metadata": {},
     "output_type": "execute_result"
    }
   ],
   "source": [
    "max_setor = empresa_setor.groupby(['setor']).max().reset_index()\n",
    "max_setor['tempo_aberto'] = max_setor['tempo_aberto'].dt.seconds\n",
    "max_setor"
   ]
  },
  {
   "cell_type": "code",
   "execution_count": 9,
   "metadata": {},
   "outputs": [
    {
     "data": {
      "image/png": "[encoded data removed]",
      "text/plain": [
       "<Figure size 432x288 with 1 Axes>"
      ]
     },
     "metadata": {
      "needs_background": "light"
     },
     "output_type": "display_data"
    }
   ],
   "source": [
    "ax = max_setor.plot.bar(x='setor', y='tempo_aberto', rot=60)\n",
    "plt.savefig('max_setor.png')"
   ]
  },
  {
   "cell_type": "markdown",
   "metadata": {},
   "source": [
    "### O mínimo\n",
    "\n",
    "Importante para checar erros de formatação da base de dados. Como vemos na análise, no caso do setor de **Vestuário**, é pouco provável que uma loja fique aberta por apenas 12 segundos, então provavelmente indica um erro no cadastro ou uma falaha na construção da pergunta que forma o banco de dados."
   ]
  },
  {
   "cell_type": "code",
   "execution_count": 10,
   "metadata": {},
   "outputs": [
    {
     "data": {
      "text/html": [
       "<div>\n",
       "<style scoped>\n",
       "    .dataframe tbody tr th:only-of-type {\n",
       "        vertical-align: middle;\n",
       "    }\n",
       "\n",
       "    .dataframe tbody tr th {\n",
       "        vertical-align: top;\n",
       "    }\n",
       "\n",
       "    .dataframe thead th {\n",
       "        text-align: right;\n",
       "    }\n",
       "</style>\n",
       "<table border=\"1\" class=\"dataframe\">\n",
       "  <thead>\n",
       "    <tr style=\"text-align: right;\">\n",
       "      <th></th>\n",
       "      <th>setor</th>\n",
       "      <th>tempo_aberto</th>\n",
       "    </tr>\n",
       "  </thead>\n",
       "  <tbody>\n",
       "    <tr>\n",
       "      <th>0</th>\n",
       "      <td>Alimentação</td>\n",
       "      <td>1337</td>\n",
       "    </tr>\n",
       "    <tr>\n",
       "      <th>1</th>\n",
       "      <td>Cozinha</td>\n",
       "      <td>642</td>\n",
       "    </tr>\n",
       "    <tr>\n",
       "      <th>2</th>\n",
       "      <td>Eletrodomésticos</td>\n",
       "      <td>647</td>\n",
       "    </tr>\n",
       "    <tr>\n",
       "      <th>3</th>\n",
       "      <td>Esportes</td>\n",
       "      <td>38</td>\n",
       "    </tr>\n",
       "    <tr>\n",
       "      <th>4</th>\n",
       "      <td>Farmácia</td>\n",
       "      <td>153</td>\n",
       "    </tr>\n",
       "    <tr>\n",
       "      <th>5</th>\n",
       "      <td>Material de construção</td>\n",
       "      <td>260</td>\n",
       "    </tr>\n",
       "    <tr>\n",
       "      <th>6</th>\n",
       "      <td>Mobília</td>\n",
       "      <td>37</td>\n",
       "    </tr>\n",
       "    <tr>\n",
       "      <th>7</th>\n",
       "      <td>Música</td>\n",
       "      <td>277</td>\n",
       "    </tr>\n",
       "    <tr>\n",
       "      <th>8</th>\n",
       "      <td>Papelaria</td>\n",
       "      <td>115</td>\n",
       "    </tr>\n",
       "    <tr>\n",
       "      <th>9</th>\n",
       "      <td>Vestuário</td>\n",
       "      <td>21</td>\n",
       "    </tr>\n",
       "  </tbody>\n",
       "</table>\n",
       "</div>"
      ],
      "text/plain": [
       "                    setor  tempo_aberto\n",
       "0             Alimentação          1337\n",
       "1                 Cozinha           642\n",
       "2        Eletrodomésticos           647\n",
       "3                Esportes            38\n",
       "4                Farmácia           153\n",
       "5  Material de construção           260\n",
       "6                 Mobília            37\n",
       "7                  Música           277\n",
       "8               Papelaria           115\n",
       "9               Vestuário            21"
      ]
     },
     "execution_count": 10,
     "metadata": {},
     "output_type": "execute_result"
    }
   ],
   "source": [
    "min_setor = empresa_setor.groupby(['setor']).min().reset_index()\n",
    "min_setor['tempo_aberto'] = min_setor['tempo_aberto'].dt.seconds\n",
    "min_setor"
   ]
  },
  {
   "cell_type": "code",
   "execution_count": 11,
   "metadata": {},
   "outputs": [
    {
     "data": {
      "image/png": "[encoded data removed]",
      "text/plain": [
       "<Figure size 432x288 with 1 Axes>"
      ]
     },
     "metadata": {
      "needs_background": "light"
     },
     "output_type": "display_data"
    }
   ],
   "source": [
    "ax = min_setor.plot.bar(x='setor', y='tempo_aberto', rot=60)\n",
    "plt.savefig('min_setor.png') "
   ]
  },
  {
   "cell_type": "markdown",
   "metadata": {},
   "source": [
    "### A média\n",
    "\n",
    "Como era esperado, a média da quantidade de horas de funcionamento fica entre 7 e 8 horas. Podemos ainda afirmar que nesse caso os setores se comportam de forma quase análoga, não havendo significativa diferenciação de horas abertas entre eles"
   ]
  },
  {
   "cell_type": "code",
   "execution_count": 12,
   "metadata": {},
   "outputs": [
    {
     "data": {
      "text/html": [
       "<div>\n",
       "<style scoped>\n",
       "    .dataframe tbody tr th:only-of-type {\n",
       "        vertical-align: middle;\n",
       "    }\n",
       "\n",
       "    .dataframe tbody tr th {\n",
       "        vertical-align: top;\n",
       "    }\n",
       "\n",
       "    .dataframe thead th {\n",
       "        text-align: right;\n",
       "    }\n",
       "</style>\n",
       "<table border=\"1\" class=\"dataframe\">\n",
       "  <thead>\n",
       "    <tr style=\"text-align: right;\">\n",
       "      <th></th>\n",
       "      <th>setor</th>\n",
       "      <th>tempo_aberto</th>\n",
       "    </tr>\n",
       "  </thead>\n",
       "  <tbody>\n",
       "    <tr>\n",
       "      <th>0</th>\n",
       "      <td>Alimentação</td>\n",
       "      <td>29766</td>\n",
       "    </tr>\n",
       "    <tr>\n",
       "      <th>1</th>\n",
       "      <td>Cozinha</td>\n",
       "      <td>31121</td>\n",
       "    </tr>\n",
       "    <tr>\n",
       "      <th>2</th>\n",
       "      <td>Eletrodomésticos</td>\n",
       "      <td>27538</td>\n",
       "    </tr>\n",
       "    <tr>\n",
       "      <th>3</th>\n",
       "      <td>Esportes</td>\n",
       "      <td>26677</td>\n",
       "    </tr>\n",
       "    <tr>\n",
       "      <th>4</th>\n",
       "      <td>Farmácia</td>\n",
       "      <td>28311</td>\n",
       "    </tr>\n",
       "    <tr>\n",
       "      <th>5</th>\n",
       "      <td>Material de construção</td>\n",
       "      <td>29125</td>\n",
       "    </tr>\n",
       "    <tr>\n",
       "      <th>6</th>\n",
       "      <td>Mobília</td>\n",
       "      <td>30669</td>\n",
       "    </tr>\n",
       "    <tr>\n",
       "      <th>7</th>\n",
       "      <td>Música</td>\n",
       "      <td>30262</td>\n",
       "    </tr>\n",
       "    <tr>\n",
       "      <th>8</th>\n",
       "      <td>Papelaria</td>\n",
       "      <td>29135</td>\n",
       "    </tr>\n",
       "    <tr>\n",
       "      <th>9</th>\n",
       "      <td>Vestuário</td>\n",
       "      <td>30467</td>\n",
       "    </tr>\n",
       "  </tbody>\n",
       "</table>\n",
       "</div>"
      ],
      "text/plain": [
       "                    setor  tempo_aberto\n",
       "0             Alimentação         29766\n",
       "1                 Cozinha         31121\n",
       "2        Eletrodomésticos         27538\n",
       "3                Esportes         26677\n",
       "4                Farmácia         28311\n",
       "5  Material de construção         29125\n",
       "6                 Mobília         30669\n",
       "7                  Música         30262\n",
       "8               Papelaria         29135\n",
       "9               Vestuário         30467"
      ]
     },
     "execution_count": 12,
     "metadata": {},
     "output_type": "execute_result"
    }
   ],
   "source": [
    "mean_setor = empresa_setor.groupby(['setor']).mean().reset_index()\n",
    "mean_setor['tempo_aberto'] = mean_setor['tempo_aberto'].dt.seconds\n",
    "mean_setor"
   ]
  },
  {
   "cell_type": "code",
   "execution_count": 13,
   "metadata": {},
   "outputs": [
    {
     "data": {
      "image/png": "[encoded data removed]",
      "text/plain": [
       "<Figure size 432x288 with 1 Axes>"
      ]
     },
     "metadata": {
      "needs_background": "light"
     },
     "output_type": "display_data"
    }
   ],
   "source": [
    "ax = mean_setor.plot.bar(x='setor', y='tempo_aberto', rot=60)\n",
    "plt.savefig('mean_setor.png') "
   ]
  },
  {
   "cell_type": "markdown",
   "metadata": {},
   "source": [
    "## Pergunta 2: Qual a média, máximo e mínimo, por estado, do tempo que as empresas passam abertas?"
   ]
  },
  {
   "cell_type": "markdown",
   "metadata": {},
   "source": [
    "### O máximo\n",
    "\n",
    "Vemos uma tendência de dois estados de não ter lojas abertas por muito tempo. São eles DF e RO, ambos longe das regiões com maior PIB, quais sejam, Sudeste e Sul"
   ]
  },
  {
   "cell_type": "code",
   "execution_count": 14,
   "metadata": {},
   "outputs": [
    {
     "data": {
      "text/html": [
       "<div>\n",
       "<style scoped>\n",
       "    .dataframe tbody tr th:only-of-type {\n",
       "        vertical-align: middle;\n",
       "    }\n",
       "\n",
       "    .dataframe tbody tr th {\n",
       "        vertical-align: top;\n",
       "    }\n",
       "\n",
       "    .dataframe thead th {\n",
       "        text-align: right;\n",
       "    }\n",
       "</style>\n",
       "<table border=\"1\" class=\"dataframe\">\n",
       "  <thead>\n",
       "    <tr style=\"text-align: right;\">\n",
       "      <th></th>\n",
       "      <th>estado</th>\n",
       "      <th>tempo_aberto</th>\n",
       "    </tr>\n",
       "  </thead>\n",
       "  <tbody>\n",
       "    <tr>\n",
       "      <th>0</th>\n",
       "      <td>AC</td>\n",
       "      <td>67950</td>\n",
       "    </tr>\n",
       "    <tr>\n",
       "      <th>1</th>\n",
       "      <td>AL</td>\n",
       "      <td>81923</td>\n",
       "    </tr>\n",
       "    <tr>\n",
       "      <th>2</th>\n",
       "      <td>AM</td>\n",
       "      <td>73101</td>\n",
       "    </tr>\n",
       "    <tr>\n",
       "      <th>3</th>\n",
       "      <td>AP</td>\n",
       "      <td>62597</td>\n",
       "    </tr>\n",
       "    <tr>\n",
       "      <th>4</th>\n",
       "      <td>BA</td>\n",
       "      <td>79561</td>\n",
       "    </tr>\n",
       "  </tbody>\n",
       "</table>\n",
       "</div>"
      ],
      "text/plain": [
       "  estado  tempo_aberto\n",
       "0     AC         67950\n",
       "1     AL         81923\n",
       "2     AM         73101\n",
       "3     AP         62597\n",
       "4     BA         79561"
      ]
     },
     "execution_count": 14,
     "metadata": {},
     "output_type": "execute_result"
    }
   ],
   "source": [
    "max_estado = empresa_estado.groupby(['estado']).max().reset_index()\n",
    "max_estado['tempo_aberto'] = max_estado['tempo_aberto'].dt.seconds\n",
    "max_estado.head()"
   ]
  },
  {
   "cell_type": "code",
   "execution_count": 15,
   "metadata": {},
   "outputs": [
    {
     "data": {
      "image/png": "[encoded data removed]",
      "text/plain": [
       "<Figure size 432x288 with 1 Axes>"
      ]
     },
     "metadata": {
      "needs_background": "light"
     },
     "output_type": "display_data"
    }
   ],
   "source": [
    "ax = max_estado.plot.bar(x='estado', y='tempo_aberto', rot=60)\n",
    "plt.savefig('max_estado.png') "
   ]
  },
  {
   "cell_type": "markdown",
   "metadata": {},
   "source": [
    "### O mínimo\n",
    "\n",
    "Importante para checar erros de formatação da base de dados. Assim como na análise em relação aos setores, provavelmente indica um erro no cadastro ou uma falaha na construção da pergunta que forma o banco de dados.\n",
    "\n",
    "Os únicos estados que aparentemente não possuem esse erro são AP e RR, ambos na região norte do país."
   ]
  },
  {
   "cell_type": "code",
   "execution_count": 16,
   "metadata": {},
   "outputs": [
    {
     "data": {
      "text/html": [
       "<div>\n",
       "<style scoped>\n",
       "    .dataframe tbody tr th:only-of-type {\n",
       "        vertical-align: middle;\n",
       "    }\n",
       "\n",
       "    .dataframe tbody tr th {\n",
       "        vertical-align: top;\n",
       "    }\n",
       "\n",
       "    .dataframe thead th {\n",
       "        text-align: right;\n",
       "    }\n",
       "</style>\n",
       "<table border=\"1\" class=\"dataframe\">\n",
       "  <thead>\n",
       "    <tr style=\"text-align: right;\">\n",
       "      <th></th>\n",
       "      <th>estado</th>\n",
       "      <th>tempo_aberto</th>\n",
       "    </tr>\n",
       "  </thead>\n",
       "  <tbody>\n",
       "    <tr>\n",
       "      <th>0</th>\n",
       "      <td>AC</td>\n",
       "      <td>15663</td>\n",
       "    </tr>\n",
       "    <tr>\n",
       "      <th>1</th>\n",
       "      <td>AL</td>\n",
       "      <td>3711</td>\n",
       "    </tr>\n",
       "    <tr>\n",
       "      <th>2</th>\n",
       "      <td>AM</td>\n",
       "      <td>120</td>\n",
       "    </tr>\n",
       "    <tr>\n",
       "      <th>3</th>\n",
       "      <td>AP</td>\n",
       "      <td>62597</td>\n",
       "    </tr>\n",
       "    <tr>\n",
       "      <th>4</th>\n",
       "      <td>BA</td>\n",
       "      <td>115</td>\n",
       "    </tr>\n",
       "  </tbody>\n",
       "</table>\n",
       "</div>"
      ],
      "text/plain": [
       "  estado  tempo_aberto\n",
       "0     AC         15663\n",
       "1     AL          3711\n",
       "2     AM           120\n",
       "3     AP         62597\n",
       "4     BA           115"
      ]
     },
     "execution_count": 16,
     "metadata": {},
     "output_type": "execute_result"
    }
   ],
   "source": [
    "min_estado = empresa_estado.groupby(['estado']).min().reset_index()\n",
    "min_estado['tempo_aberto'] = min_estado['tempo_aberto'].dt.seconds\n",
    "min_estado.head()"
   ]
  },
  {
   "cell_type": "code",
   "execution_count": 17,
   "metadata": {},
   "outputs": [
    {
     "data": {
      "image/png": "[encoded data removed]",
      "text/plain": [
       "<Figure size 432x288 with 1 Axes>"
      ]
     },
     "metadata": {
      "needs_background": "light"
     },
     "output_type": "display_data"
    }
   ],
   "source": [
    "ax = min_estado.plot.bar(x='estado', y='tempo_aberto', rot=60)\n",
    "plt.savefig('min_estado.png')"
   ]
  },
  {
   "cell_type": "markdown",
   "metadata": {},
   "source": [
    "### A média\n",
    "\n",
    "Diferentemente da análise por setores, a média encontrada varia entre os estados. Destacam-se novamente AP e RR como estados que possuem média grande de horas que empresas ficam abertas. A queda na média dos outros estados pode ser consequência das entradas erradas, como visto na análise do mínimo tempo aberto."
   ]
  },
  {
   "cell_type": "code",
   "execution_count": 18,
   "metadata": {},
   "outputs": [
    {
     "data": {
      "text/html": [
       "<div>\n",
       "<style scoped>\n",
       "    .dataframe tbody tr th:only-of-type {\n",
       "        vertical-align: middle;\n",
       "    }\n",
       "\n",
       "    .dataframe tbody tr th {\n",
       "        vertical-align: top;\n",
       "    }\n",
       "\n",
       "    .dataframe thead th {\n",
       "        text-align: right;\n",
       "    }\n",
       "</style>\n",
       "<table border=\"1\" class=\"dataframe\">\n",
       "  <thead>\n",
       "    <tr style=\"text-align: right;\">\n",
       "      <th></th>\n",
       "      <th>estado</th>\n",
       "      <th>tempo_aberto</th>\n",
       "    </tr>\n",
       "  </thead>\n",
       "  <tbody>\n",
       "    <tr>\n",
       "      <th>0</th>\n",
       "      <td>AC</td>\n",
       "      <td>38122</td>\n",
       "    </tr>\n",
       "    <tr>\n",
       "      <th>1</th>\n",
       "      <td>AL</td>\n",
       "      <td>35324</td>\n",
       "    </tr>\n",
       "    <tr>\n",
       "      <th>2</th>\n",
       "      <td>AM</td>\n",
       "      <td>24148</td>\n",
       "    </tr>\n",
       "    <tr>\n",
       "      <th>3</th>\n",
       "      <td>AP</td>\n",
       "      <td>62597</td>\n",
       "    </tr>\n",
       "    <tr>\n",
       "      <th>4</th>\n",
       "      <td>BA</td>\n",
       "      <td>26717</td>\n",
       "    </tr>\n",
       "  </tbody>\n",
       "</table>\n",
       "</div>"
      ],
      "text/plain": [
       "  estado  tempo_aberto\n",
       "0     AC         38122\n",
       "1     AL         35324\n",
       "2     AM         24148\n",
       "3     AP         62597\n",
       "4     BA         26717"
      ]
     },
     "execution_count": 18,
     "metadata": {},
     "output_type": "execute_result"
    }
   ],
   "source": [
    "mean_estado = empresa_estado.groupby(['estado']).mean().reset_index()\n",
    "mean_estado['tempo_aberto'] = mean_estado['tempo_aberto'].dt.seconds\n",
    "mean_estado.head()"
   ]
  },
  {
   "cell_type": "code",
   "execution_count": 19,
   "metadata": {},
   "outputs": [
    {
     "data": {
      "image/png": "[encoded data removed]",
      "text/plain": [
       "<Figure size 432x288 with 1 Axes>"
      ]
     },
     "metadata": {
      "needs_background": "light"
     },
     "output_type": "display_data"
    }
   ],
   "source": [
    "ax = mean_estado.plot.bar(x='estado', y='tempo_aberto', rot=60)\n",
    "plt.savefig('mean_estado.png') "
   ]
  }
 ],
 "metadata": {
  "interpreter": {
   "hash": "b3ba2566441a7c06988d0923437866b63cedc61552a5af99d1f4fb67d367b25f"
  },
  "kernelspec": {
   "display_name": "Python 3.8.8 64-bit ('base': conda)",
   "language": "python",
   "name": "python3"
  },
  "language_info": {
   "codemirror_mode": {
    "name": "ipython",
    "version": 3
   },
   "file_extension": ".py",
   "mimetype": "text/x-python",
   "name": "python",
   "nbconvert_exporter": "python",
   "pygments_lexer": "ipython3",
   "version": "3.8.8"
  },
  "orig_nbformat": 4
 },
 "nbformat": 4,
 "nbformat_minor": 2
}
