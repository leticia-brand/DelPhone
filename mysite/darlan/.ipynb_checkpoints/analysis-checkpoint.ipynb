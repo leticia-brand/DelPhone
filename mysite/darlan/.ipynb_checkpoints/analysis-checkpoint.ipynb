{
 "cells": [
  {
   "cell_type": "markdown",
   "id": "4884f7e7",
   "metadata": {},
   "source": [
    "# Análise de setores"
   ]
  },
  {
   "cell_type": "markdown",
   "id": "8fe38620",
   "metadata": {},
   "source": [
    "Importando numpy, pandas e o Banco de dados"
   ]
  },
  {
   "cell_type": "code",
   "execution_count": 12,
   "id": "0f9a6152",
   "metadata": {},
   "outputs": [],
   "source": [
    "import matplotlib.pyplot as plt\n",
    "import pandas as pd\n",
    "import numpy as np\n",
    "import sqlite3"
   ]
  },
  {
   "cell_type": "markdown",
   "id": "8c1df257",
   "metadata": {},
   "source": [
    "Converter o Banco de dados para um Dataframe"
   ]
  },
  {
   "cell_type": "code",
   "execution_count": 13,
   "id": "32f107f4",
   "metadata": {},
   "outputs": [
    {
     "data": {
      "text/html": [
       "<div>\n",
       "<style scoped>\n",
       "    .dataframe tbody tr th:only-of-type {\n",
       "        vertical-align: middle;\n",
       "    }\n",
       "\n",
       "    .dataframe tbody tr th {\n",
       "        vertical-align: top;\n",
       "    }\n",
       "\n",
       "    .dataframe thead th {\n",
       "        text-align: right;\n",
       "    }\n",
       "</style>\n",
       "<table border=\"1\" class=\"dataframe\">\n",
       "  <thead>\n",
       "    <tr style=\"text-align: right;\">\n",
       "      <th></th>\n",
       "      <th>nome</th>\n",
       "      <th>email</th>\n",
       "      <th>celular</th>\n",
       "      <th>endereco</th>\n",
       "      <th>estado</th>\n",
       "      <th>cidade</th>\n",
       "      <th>setor</th>\n",
       "      <th>n_funcionario</th>\n",
       "      <th>n_filiais</th>\n",
       "      <th>data_criacao</th>\n",
       "      <th>faturamento_anual</th>\n",
       "      <th>horario_abertura</th>\n",
       "      <th>horario_fechamento</th>\n",
       "    </tr>\n",
       "  </thead>\n",
       "  <tbody>\n",
       "    <tr>\n",
       "      <th>0</th>\n",
       "      <td>Vega-Davis</td>\n",
       "      <td>moniquepatterson@example.net</td>\n",
       "      <td>619-235-8267x594</td>\n",
       "      <td>39072 Dominguez Brooks\\nNew Sean, AL 24938</td>\n",
       "      <td>RS</td>\n",
       "      <td>Vila Maria</td>\n",
       "      <td>Papelaria</td>\n",
       "      <td>945.0</td>\n",
       "      <td>57.0</td>\n",
       "      <td>1983-08-15</td>\n",
       "      <td>261.0</td>\n",
       "      <td>14:22:00</td>\n",
       "      <td>07:55:39</td>\n",
       "    </tr>\n",
       "    <tr>\n",
       "      <th>1</th>\n",
       "      <td>Molina, Turner and Evans</td>\n",
       "      <td>rcarpenter@example.net</td>\n",
       "      <td>793-057-3456x927</td>\n",
       "      <td>386 James Neck\\nJasminefort, WV 94271</td>\n",
       "      <td>BA</td>\n",
       "      <td>Riachão Das Neves</td>\n",
       "      <td>Esportes</td>\n",
       "      <td>380.0</td>\n",
       "      <td>86.0</td>\n",
       "      <td>2021-02-01</td>\n",
       "      <td>535.0</td>\n",
       "      <td>04:08:05</td>\n",
       "      <td>07:35:00</td>\n",
       "    </tr>\n",
       "    <tr>\n",
       "      <th>2</th>\n",
       "      <td>Cameron-Mcdonald</td>\n",
       "      <td>charlesanderson@example.com</td>\n",
       "      <td>001-182-115-3409</td>\n",
       "      <td>8674 Jose Lock Apt. 550\\nLake Malikview, LA 39125</td>\n",
       "      <td>MG</td>\n",
       "      <td>Itanhomi</td>\n",
       "      <td>Vestuário</td>\n",
       "      <td>540.0</td>\n",
       "      <td>34.0</td>\n",
       "      <td>2005-07-11</td>\n",
       "      <td>573.0</td>\n",
       "      <td>10:35:44</td>\n",
       "      <td>19:29:34</td>\n",
       "    </tr>\n",
       "    <tr>\n",
       "      <th>3</th>\n",
       "      <td>Mcdonald-Hudson</td>\n",
       "      <td>msanders@example.com</td>\n",
       "      <td>+1-924-043-5432x16295</td>\n",
       "      <td>385 Brett Valleys\\nNorth Mary, NE 72357</td>\n",
       "      <td>CE</td>\n",
       "      <td>Ipueiras</td>\n",
       "      <td>Cozinha</td>\n",
       "      <td>283.0</td>\n",
       "      <td>26.0</td>\n",
       "      <td>1997-08-31</td>\n",
       "      <td>955.0</td>\n",
       "      <td>09:02:09</td>\n",
       "      <td>01:30:08</td>\n",
       "    </tr>\n",
       "    <tr>\n",
       "      <th>4</th>\n",
       "      <td>Myers-Diaz</td>\n",
       "      <td>carrolldeborah@example.com</td>\n",
       "      <td>(779)083-8986</td>\n",
       "      <td>65693 Lee Court Apt. 876\\nNew Victorialand, KY...</td>\n",
       "      <td>PB</td>\n",
       "      <td>Santa Cecília</td>\n",
       "      <td>Esportes</td>\n",
       "      <td>322.0</td>\n",
       "      <td>3.0</td>\n",
       "      <td>1978-05-19</td>\n",
       "      <td>459.0</td>\n",
       "      <td>04:40:42</td>\n",
       "      <td>15:31:53</td>\n",
       "    </tr>\n",
       "  </tbody>\n",
       "</table>\n",
       "</div>"
      ],
      "text/plain": [
       "                       nome                         email  \\\n",
       "0                Vega-Davis  moniquepatterson@example.net   \n",
       "1  Molina, Turner and Evans        rcarpenter@example.net   \n",
       "2          Cameron-Mcdonald   charlesanderson@example.com   \n",
       "3           Mcdonald-Hudson          msanders@example.com   \n",
       "4                Myers-Diaz    carrolldeborah@example.com   \n",
       "\n",
       "                 celular                                           endereco  \\\n",
       "0       619-235-8267x594         39072 Dominguez Brooks\\nNew Sean, AL 24938   \n",
       "1       793-057-3456x927              386 James Neck\\nJasminefort, WV 94271   \n",
       "2       001-182-115-3409  8674 Jose Lock Apt. 550\\nLake Malikview, LA 39125   \n",
       "3  +1-924-043-5432x16295            385 Brett Valleys\\nNorth Mary, NE 72357   \n",
       "4          (779)083-8986  65693 Lee Court Apt. 876\\nNew Victorialand, KY...   \n",
       "\n",
       "  estado             cidade      setor  n_funcionario  n_filiais data_criacao  \\\n",
       "0     RS         Vila Maria  Papelaria          945.0       57.0   1983-08-15   \n",
       "1     BA  Riachão Das Neves   Esportes          380.0       86.0   2021-02-01   \n",
       "2     MG           Itanhomi  Vestuário          540.0       34.0   2005-07-11   \n",
       "3     CE           Ipueiras    Cozinha          283.0       26.0   1997-08-31   \n",
       "4     PB      Santa Cecília   Esportes          322.0        3.0   1978-05-19   \n",
       "\n",
       "   faturamento_anual horario_abertura horario_fechamento  \n",
       "0              261.0         14:22:00           07:55:39  \n",
       "1              535.0         04:08:05           07:35:00  \n",
       "2              573.0         10:35:44           19:29:34  \n",
       "3              955.0         09:02:09           01:30:08  \n",
       "4              459.0         04:40:42           15:31:53  "
      ]
     },
     "execution_count": 13,
     "metadata": {},
     "output_type": "execute_result"
    }
   ],
   "source": [
    "conn = sqlite3.connect('../db.sqlite3')\n",
    "cur = conn.cursor()\n",
    "\n",
    "query = '''\n",
    "SELECT * \n",
    "FROM delphone_empresa\n",
    "'''\n",
    "\n",
    "empresa = pd.read_sql(query, con = conn)\n",
    "\n",
    "empresa = empresa.drop(columns = 'id')\n",
    "\n",
    "empresa.head()"
   ]
  },
  {
   "cell_type": "markdown",
   "id": "fc6f8d90",
   "metadata": {},
   "source": [
    "Empresa mais antiga:"
   ]
  },
  {
   "cell_type": "code",
   "execution_count": 14,
   "id": "848568cd",
   "metadata": {},
   "outputs": [
    {
     "data": {
      "text/html": [
       "<div>\n",
       "<style scoped>\n",
       "    .dataframe tbody tr th:only-of-type {\n",
       "        vertical-align: middle;\n",
       "    }\n",
       "\n",
       "    .dataframe tbody tr th {\n",
       "        vertical-align: top;\n",
       "    }\n",
       "\n",
       "    .dataframe thead th {\n",
       "        text-align: right;\n",
       "    }\n",
       "</style>\n",
       "<table border=\"1\" class=\"dataframe\">\n",
       "  <thead>\n",
       "    <tr style=\"text-align: right;\">\n",
       "      <th></th>\n",
       "      <th>nome</th>\n",
       "      <th>email</th>\n",
       "      <th>celular</th>\n",
       "      <th>endereco</th>\n",
       "      <th>estado</th>\n",
       "      <th>cidade</th>\n",
       "      <th>setor</th>\n",
       "      <th>n_funcionario</th>\n",
       "      <th>n_filiais</th>\n",
       "      <th>data_criacao</th>\n",
       "      <th>faturamento_anual</th>\n",
       "      <th>horario_abertura</th>\n",
       "      <th>horario_fechamento</th>\n",
       "    </tr>\n",
       "  </thead>\n",
       "  <tbody>\n",
       "    <tr>\n",
       "      <th>943</th>\n",
       "      <td>Davis-Bennett</td>\n",
       "      <td>nclarke@example.net</td>\n",
       "      <td>(336)350-4397</td>\n",
       "      <td>Unit 4383 Box 0780\\nDPO AE 89555</td>\n",
       "      <td>MA</td>\n",
       "      <td>Ribamar Fiquene</td>\n",
       "      <td>Cozinha</td>\n",
       "      <td>423.0</td>\n",
       "      <td>56.0</td>\n",
       "      <td>1970-01-13</td>\n",
       "      <td>525.0</td>\n",
       "      <td>12:52:15</td>\n",
       "      <td>14:13:45</td>\n",
       "    </tr>\n",
       "    <tr>\n",
       "      <th>792</th>\n",
       "      <td>Bailey, Lewis and Good</td>\n",
       "      <td>crystalruiz@example.org</td>\n",
       "      <td>+1-813-712-0492x3734</td>\n",
       "      <td>9287 Sarah Light\\nMooreton, MI 87317</td>\n",
       "      <td>RS</td>\n",
       "      <td>Doutor Maurício Cardoso</td>\n",
       "      <td>Eletrodomésticos</td>\n",
       "      <td>621.0</td>\n",
       "      <td>42.0</td>\n",
       "      <td>1970-02-01</td>\n",
       "      <td>878.0</td>\n",
       "      <td>14:30:24</td>\n",
       "      <td>15:09:15</td>\n",
       "    </tr>\n",
       "    <tr>\n",
       "      <th>39</th>\n",
       "      <td>Solis-Holden</td>\n",
       "      <td>bassleah@example.net</td>\n",
       "      <td>402.668.2786</td>\n",
       "      <td>19826 James Flat\\nLake Stacey, IA 33915</td>\n",
       "      <td>RJ</td>\n",
       "      <td>Resende</td>\n",
       "      <td>Esportes</td>\n",
       "      <td>282.0</td>\n",
       "      <td>30.0</td>\n",
       "      <td>1970-02-14</td>\n",
       "      <td>483.0</td>\n",
       "      <td>09:15:18</td>\n",
       "      <td>16:57:55</td>\n",
       "    </tr>\n",
       "    <tr>\n",
       "      <th>38</th>\n",
       "      <td>Knox Ltd</td>\n",
       "      <td>torresjoseph@example.org</td>\n",
       "      <td>+1-209-133-4460x698</td>\n",
       "      <td>3045 Brenda Valley\\nNorth Jessica, UT 68333</td>\n",
       "      <td>BA</td>\n",
       "      <td>São Desidério</td>\n",
       "      <td>Alimentação</td>\n",
       "      <td>842.0</td>\n",
       "      <td>84.0</td>\n",
       "      <td>1970-02-16</td>\n",
       "      <td>643.0</td>\n",
       "      <td>23:24:18</td>\n",
       "      <td>14:14:40</td>\n",
       "    </tr>\n",
       "    <tr>\n",
       "      <th>567</th>\n",
       "      <td>Moore, Calderon and Moore</td>\n",
       "      <td>stephaniejohnson@example.net</td>\n",
       "      <td>+1-709-183-4484x0233</td>\n",
       "      <td>USNS Shaw\\nFPO AP 87493</td>\n",
       "      <td>CE</td>\n",
       "      <td>Granjeiro</td>\n",
       "      <td>Mobília</td>\n",
       "      <td>821.0</td>\n",
       "      <td>100.0</td>\n",
       "      <td>1970-02-28</td>\n",
       "      <td>911.0</td>\n",
       "      <td>02:52:27</td>\n",
       "      <td>10:46:36</td>\n",
       "    </tr>\n",
       "  </tbody>\n",
       "</table>\n",
       "</div>"
      ],
      "text/plain": [
       "                          nome                         email  \\\n",
       "943              Davis-Bennett           nclarke@example.net   \n",
       "792     Bailey, Lewis and Good       crystalruiz@example.org   \n",
       "39                Solis-Holden          bassleah@example.net   \n",
       "38                    Knox Ltd      torresjoseph@example.org   \n",
       "567  Moore, Calderon and Moore  stephaniejohnson@example.net   \n",
       "\n",
       "                  celular                                     endereco estado  \\\n",
       "943         (336)350-4397             Unit 4383 Box 0780\\nDPO AE 89555     MA   \n",
       "792  +1-813-712-0492x3734         9287 Sarah Light\\nMooreton, MI 87317     RS   \n",
       "39           402.668.2786      19826 James Flat\\nLake Stacey, IA 33915     RJ   \n",
       "38    +1-209-133-4460x698  3045 Brenda Valley\\nNorth Jessica, UT 68333     BA   \n",
       "567  +1-709-183-4484x0233                      USNS Shaw\\nFPO AP 87493     CE   \n",
       "\n",
       "                      cidade             setor  n_funcionario  n_filiais  \\\n",
       "943          Ribamar Fiquene           Cozinha          423.0       56.0   \n",
       "792  Doutor Maurício Cardoso  Eletrodomésticos          621.0       42.0   \n",
       "39                   Resende          Esportes          282.0       30.0   \n",
       "38             São Desidério       Alimentação          842.0       84.0   \n",
       "567                Granjeiro           Mobília          821.0      100.0   \n",
       "\n",
       "    data_criacao  faturamento_anual horario_abertura horario_fechamento  \n",
       "943   1970-01-13              525.0         12:52:15           14:13:45  \n",
       "792   1970-02-01              878.0         14:30:24           15:09:15  \n",
       "39    1970-02-14              483.0         09:15:18           16:57:55  \n",
       "38    1970-02-16              643.0         23:24:18           14:14:40  \n",
       "567   1970-02-28              911.0         02:52:27           10:46:36  "
      ]
     },
     "execution_count": 14,
     "metadata": {},
     "output_type": "execute_result"
    }
   ],
   "source": [
    "df_menor_data = empresa.sort_values(by='data_criacao')\n",
    "\n",
    "df_menor_data.head()"
   ]
  },
  {
   "cell_type": "markdown",
   "id": "2ed47407",
   "metadata": {},
   "source": [
    "Empresa mais nova:"
   ]
  },
  {
   "cell_type": "code",
   "execution_count": 15,
   "id": "15ec99b9",
   "metadata": {},
   "outputs": [
    {
     "data": {
      "text/html": [
       "<div>\n",
       "<style scoped>\n",
       "    .dataframe tbody tr th:only-of-type {\n",
       "        vertical-align: middle;\n",
       "    }\n",
       "\n",
       "    .dataframe tbody tr th {\n",
       "        vertical-align: top;\n",
       "    }\n",
       "\n",
       "    .dataframe thead th {\n",
       "        text-align: right;\n",
       "    }\n",
       "</style>\n",
       "<table border=\"1\" class=\"dataframe\">\n",
       "  <thead>\n",
       "    <tr style=\"text-align: right;\">\n",
       "      <th></th>\n",
       "      <th>nome</th>\n",
       "      <th>email</th>\n",
       "      <th>celular</th>\n",
       "      <th>endereco</th>\n",
       "      <th>estado</th>\n",
       "      <th>cidade</th>\n",
       "      <th>setor</th>\n",
       "      <th>n_funcionario</th>\n",
       "      <th>n_filiais</th>\n",
       "      <th>data_criacao</th>\n",
       "      <th>faturamento_anual</th>\n",
       "      <th>horario_abertura</th>\n",
       "      <th>horario_fechamento</th>\n",
       "    </tr>\n",
       "  </thead>\n",
       "  <tbody>\n",
       "    <tr>\n",
       "      <th>67</th>\n",
       "      <td>Jordan Ltd</td>\n",
       "      <td>danielmichelle@example.org</td>\n",
       "      <td>224.683.0657x318</td>\n",
       "      <td>109 Richard Via\\nSouth Christopherland, CO 84342</td>\n",
       "      <td>PR</td>\n",
       "      <td>Espigão Alto do Iguaçu</td>\n",
       "      <td>Cozinha</td>\n",
       "      <td>591.0</td>\n",
       "      <td>22.0</td>\n",
       "      <td>2021-10-12</td>\n",
       "      <td>275.0</td>\n",
       "      <td>23:18:27</td>\n",
       "      <td>23:32:47</td>\n",
       "    </tr>\n",
       "    <tr>\n",
       "      <th>347</th>\n",
       "      <td>Bush-Moran</td>\n",
       "      <td>ystafford@example.org</td>\n",
       "      <td>(837)446-5794x7185</td>\n",
       "      <td>7679 Derek Valley\\nNew Franciscoview, AZ 52917</td>\n",
       "      <td>CE</td>\n",
       "      <td>Monsenhor Tabosa</td>\n",
       "      <td>Eletrodomésticos</td>\n",
       "      <td>878.0</td>\n",
       "      <td>48.0</td>\n",
       "      <td>2021-09-30</td>\n",
       "      <td>140.0</td>\n",
       "      <td>02:19:25</td>\n",
       "      <td>00:56:51</td>\n",
       "    </tr>\n",
       "    <tr>\n",
       "      <th>532</th>\n",
       "      <td>Moore and Sons</td>\n",
       "      <td>carolyngonzalez@example.org</td>\n",
       "      <td>4862220515</td>\n",
       "      <td>PSC 0534, Box 2459\\nAPO AA 20597</td>\n",
       "      <td>MG</td>\n",
       "      <td>Matutina</td>\n",
       "      <td>Vestuário</td>\n",
       "      <td>252.0</td>\n",
       "      <td>7.0</td>\n",
       "      <td>2021-09-14</td>\n",
       "      <td>883.0</td>\n",
       "      <td>08:15:47</td>\n",
       "      <td>17:33:13</td>\n",
       "    </tr>\n",
       "    <tr>\n",
       "      <th>889</th>\n",
       "      <td>Mitchell-Davis</td>\n",
       "      <td>hpatel@example.com</td>\n",
       "      <td>+1-225-971-9100x2762</td>\n",
       "      <td>9981 Hamilton Union\\nLake Jamestown, MA 63111</td>\n",
       "      <td>MG</td>\n",
       "      <td>Lagoa Grande</td>\n",
       "      <td>Material de construção</td>\n",
       "      <td>990.0</td>\n",
       "      <td>44.0</td>\n",
       "      <td>2021-09-09</td>\n",
       "      <td>144.0</td>\n",
       "      <td>01:57:07</td>\n",
       "      <td>21:34:40</td>\n",
       "    </tr>\n",
       "    <tr>\n",
       "      <th>37</th>\n",
       "      <td>Roth Group</td>\n",
       "      <td>rothfelicia@example.com</td>\n",
       "      <td>7354860347</td>\n",
       "      <td>082 Randall Motorway\\nSmithborough, ME 57211</td>\n",
       "      <td>SC</td>\n",
       "      <td>Vargem Bonita</td>\n",
       "      <td>Eletrodomésticos</td>\n",
       "      <td>831.0</td>\n",
       "      <td>63.0</td>\n",
       "      <td>2021-08-01</td>\n",
       "      <td>763.0</td>\n",
       "      <td>17:41:12</td>\n",
       "      <td>02:24:45</td>\n",
       "    </tr>\n",
       "  </tbody>\n",
       "</table>\n",
       "</div>"
      ],
      "text/plain": [
       "               nome                        email               celular  \\\n",
       "67       Jordan Ltd   danielmichelle@example.org      224.683.0657x318   \n",
       "347      Bush-Moran        ystafford@example.org    (837)446-5794x7185   \n",
       "532  Moore and Sons  carolyngonzalez@example.org            4862220515   \n",
       "889  Mitchell-Davis           hpatel@example.com  +1-225-971-9100x2762   \n",
       "37       Roth Group      rothfelicia@example.com            7354860347   \n",
       "\n",
       "                                             endereco estado  \\\n",
       "67   109 Richard Via\\nSouth Christopherland, CO 84342     PR   \n",
       "347    7679 Derek Valley\\nNew Franciscoview, AZ 52917     CE   \n",
       "532                  PSC 0534, Box 2459\\nAPO AA 20597     MG   \n",
       "889     9981 Hamilton Union\\nLake Jamestown, MA 63111     MG   \n",
       "37       082 Randall Motorway\\nSmithborough, ME 57211     SC   \n",
       "\n",
       "                     cidade                   setor  n_funcionario  n_filiais  \\\n",
       "67   Espigão Alto do Iguaçu                 Cozinha          591.0       22.0   \n",
       "347        Monsenhor Tabosa        Eletrodomésticos          878.0       48.0   \n",
       "532                Matutina               Vestuário          252.0        7.0   \n",
       "889            Lagoa Grande  Material de construção          990.0       44.0   \n",
       "37            Vargem Bonita        Eletrodomésticos          831.0       63.0   \n",
       "\n",
       "    data_criacao  faturamento_anual horario_abertura horario_fechamento  \n",
       "67    2021-10-12              275.0         23:18:27           23:32:47  \n",
       "347   2021-09-30              140.0         02:19:25           00:56:51  \n",
       "532   2021-09-14              883.0         08:15:47           17:33:13  \n",
       "889   2021-09-09              144.0         01:57:07           21:34:40  \n",
       "37    2021-08-01              763.0         17:41:12           02:24:45  "
      ]
     },
     "execution_count": 15,
     "metadata": {},
     "output_type": "execute_result"
    }
   ],
   "source": [
    "df_maior_data = empresa.sort_values(by='data_criacao', ascending=False)\n",
    "\n",
    "df_maior_data.head()"
   ]
  },
  {
   "cell_type": "markdown",
   "id": "5fbe18c5",
   "metadata": {},
   "source": [
    "Qual setor tem mais empresas?"
   ]
  },
  {
   "cell_type": "code",
   "execution_count": 5,
   "id": "8b8c4a41",
   "metadata": {},
   "outputs": [
    {
     "data": {
      "text/plain": [
       "<AxesSubplot:xlabel='setor'>"
      ]
     },
     "execution_count": 5,
     "metadata": {},
     "output_type": "execute_result"
    },
    {
     "data": {
      "image/png": "[encoded data removed]",
      "text/plain": [
       "<Figure size 432x288 with 1 Axes>"
      ]
     },
     "metadata": {
      "needs_background": "light"
     },
     "output_type": "display_data"
    }
   ],
   "source": [
    "df_setor_frequencia = empresa.groupby('setor').count()[['nome']]\n",
    "df_setor_frequencia = df_setor_frequencia.rename({'nome': 'Empresas'}, axis=1)\n",
    "\n",
    "df_setor_frequencia.sort_values(by='Empresas', ascending=False).head().plot.bar()"
   ]
  },
  {
   "cell_type": "markdown",
   "id": "b9e8f2c0",
   "metadata": {},
   "source": [
    "Qual setor tem menos empresas?"
   ]
  },
  {
   "cell_type": "code",
   "execution_count": 6,
   "id": "041f3cb8",
   "metadata": {},
   "outputs": [
    {
     "data": {
      "text/plain": [
       "<AxesSubplot:xlabel='setor'>"
      ]
     },
     "execution_count": 6,
     "metadata": {},
     "output_type": "execute_result"
    },
    {
     "data": {
      "image/png": "[encoded data removed]",
      "text/plain": [
       "<Figure size 432x288 with 1 Axes>"
      ]
     },
     "metadata": {
      "needs_background": "light"
     },
     "output_type": "display_data"
    }
   ],
   "source": [
    "df_setor_frequencia.sort_values(by='Empresas', ascending=True).head().plot.bar()"
   ]
  },
  {
   "cell_type": "markdown",
   "id": "7b84c3dd",
   "metadata": {},
   "source": [
    "Média de empresa por setor:"
   ]
  },
  {
   "cell_type": "code",
   "execution_count": 7,
   "id": "8c202b1c",
   "metadata": {},
   "outputs": [
    {
     "data": {
      "text/plain": [
       "Empresas    100.0\n",
       "dtype: float64"
      ]
     },
     "execution_count": 7,
     "metadata": {},
     "output_type": "execute_result"
    }
   ],
   "source": [
    "df_setor_media = df_setor_frequencia.mean()\n",
    "df_setor_media"
   ]
  }
 ],
 "metadata": {
  "interpreter": {
   "hash": "873342f3f3b18abae815ba7ba65378a17e52f9fd5b9a12f41cb7603f9c039bca"
  },
  "kernelspec": {
   "display_name": "Python 3",
   "language": "python",
   "name": "python3"
  },
  "language_info": {
   "codemirror_mode": {
    "name": "ipython",
    "version": 3
   },
   "file_extension": ".py",
   "mimetype": "text/x-python",
   "name": "python",
   "nbconvert_exporter": "python",
   "pygments_lexer": "ipython3",
   "version": "3.8.8"
  }
 },
 "nbformat": 4,
 "nbformat_minor": 5
}
